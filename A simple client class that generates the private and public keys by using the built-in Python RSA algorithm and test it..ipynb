{
  "nbformat": 4,
  "nbformat_minor": 0,
  "metadata": {
    "colab": {
      "provenance": [],
      "authorship_tag": "ABX9TyOEdtWkHJLRn1Csw3ZlFtyF",
      "include_colab_link": true
    },
    "kernelspec": {
      "name": "python3",
      "display_name": "Python 3"
    },
    "language_info": {
      "name": "python"
    }
  },
  "cells": [
    {
      "cell_type": "markdown",
      "metadata": {
        "id": "view-in-github",
        "colab_type": "text"
      },
      "source": [
        "<a href=\"https://colab.research.google.com/github/examfiles/AI/blob/main/A%20simple%20client%20class%20that%20generates%20the%20private%20and%20public%20keys%20by%20using%20the%20built-in%20Python%20RSA%20algorithm%20and%20test%20it..ipynb\" target=\"_parent\"><img src=\"https://colab.research.google.com/assets/colab-badge.svg\" alt=\"Open In Colab\"/></a>"
      ]
    },
    {
      "source": [
        "!pip install pycryptodome # Install the pycryptodome package, which provides the Crypto module\n",
        "import hashlib\n",
        "import random\n",
        "import string\n",
        "import json\n",
        "import binascii\n",
        "import numpy as np\n",
        "import pandas as pd\n",
        "import pylab as pl\n",
        "import logging\n",
        "import datetime\n",
        "import collections\n",
        "\n",
        "import Crypto # Now you can import Crypto after installing it\n",
        "import Crypto.PublicKey\n",
        "import Crypto.Random\n",
        "from Crypto.Hash import SHA\n",
        "from Crypto.PublicKey import RSA\n",
        "from Crypto.Signature import PKCS1_v1_5\n",
        "\n",
        "import binascii\n",
        "class Client:\n",
        "   def __init__(self):\n",
        "      random = Crypto.Random.new().read\n",
        "      self._private_key = RSA.generate(1024, random)\n",
        "      self._public_key = self._private_key.publickey()\n",
        "      self._signer = PKCS1_v1_5.new(self._private_key)\n",
        "\n",
        "   @property\n",
        "   def identity(self):\n",
        "      return binascii.hexlify(self._public_key.exportKey(format='DER')).decode('ascii')\n",
        "\n",
        "class Transaction:\n",
        "   def __init__(self, sender, recipient, value):\n",
        "    self.sender = sender\n",
        "    self.recipient = recipient\n",
        "    self.value = value\n",
        "    self.time = datetime.datetime.now()\n",
        "   def to_dict(self):\n",
        "    if self.sender == \"Genesis\":\n",
        "      identity = \"Genesis\"\n",
        "    else:\n",
        "      identity = self.sender.identity\n",
        "    return collections.OrderedDict({\n",
        "      'sender': identity,\n",
        "      'recipient': self.recipient,\n",
        "      'value': self.value,\n",
        "      'time' : self.time})\n",
        "   def sign_transaction(self):\n",
        "    private_key = self.sender._private_key\n",
        "    signer = PKCS1_v1_5.new(private_key)\n",
        "    h = SHA.new(str(self.to_dict()).encode('utf8'))\n",
        "    return binascii.hexlify(signer.sign(h)).decode('ascii')\n",
        "Sangeeta = Client()\n",
        "Asmi = Client()\n",
        "t = Transaction(Sangeeta,Asmi.identity,5.0)\n",
        "signature = t.sign_transaction()\n",
        "print (signature)"
      ],
      "cell_type": "code",
      "metadata": {
        "colab": {
          "base_uri": "https://localhost:8080/"
        },
        "id": "mooyLcGiTa3i",
        "outputId": "daa45417-5845-4df5-9dbb-af9e4f883f39"
      },
      "execution_count": 17,
      "outputs": [
        {
          "output_type": "stream",
          "name": "stdout",
          "text": [
            "Requirement already satisfied: pycryptodome in /usr/local/lib/python3.10/dist-packages (3.20.0)\n",
            "66477fbd9a44ef6185399557f6c25cfeca8c88346b8e203b64a46ea5b3a9515c7abbbe0c4148c85267fe488a8c5313863c7bef9e70481fb38c64037a64c10b2f7ed47cd3ff075744d8e129f1386f8529510d56ffbff818aa54af1ef5496880e946e8b673536e386514d72bf9e26ea9e184216cb82d238fe9426cc5aae69da0af\n"
          ]
        }
      ]
    }
  ]
}